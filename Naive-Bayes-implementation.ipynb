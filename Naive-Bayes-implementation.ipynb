{
  "cells": [
    {
      "cell_type": "markdown",
      "metadata": {
        "id": "Uq_3t_tluNmU"
      },
      "source": [
        "# Naive Bayes"
      ]
    },
    {
      "cell_type": "markdown",
      "metadata": {
        "id": "TQVMUZkQHlm2"
      },
      "source": [
        "## 1. Classifying Digits\n",
        "In this part we will test digits classification on the MNIST dataset, using Bernoulli Naive Bayes (a generative model).\n",
        "\n",
        "The MNIST dataset contains 28x28 grayscale images of handwritten digits between 0 and 9 (10 classes). For mathmatical analysis clarity, and for matching expected API, flatten each image to create a 1D array with 784 elements."
      ]
    },
    {
      "cell_type": "markdown",
      "metadata": {
        "id": "Cjwjk6pzLE-y"
      },
      "source": [
        "### Loading the MNIST dataset\n",
        "Load the MNIST data set. The digits dataset is one of datasets scikit-learn comes with that do not require the downloading of any file from some external website. Use \n",
        ">```\n",
        "from sklearn.datasets import fetch_openml\n",
        "X, y = fetch_openml('mnist_784', version=1, return_X_y=True)\n",
        "```\n",
        "\n",
        "Plot a single sample of each digit as the original image, so you get a feeling how the data looks like.\n",
        "\n",
        "Finally, divide your data into train and test sets, using 1/7 of the data for testing.\n"
      ]
    },
    {
      "cell_type": "markdown",
      "metadata": {
        "id": "59yeAckusB2e"
      },
      "source": [
        "Loading the MNIST data set"
      ]
    },
    {
      "cell_type": "code",
      "execution_count": null,
      "metadata": {
        "id": "pvKlcDz0rmN2"
      },
      "outputs": [],
      "source": [
        "from sklearn.datasets import fetch_openml\n",
        "X, y = fetch_openml('mnist_784', version=1, return_X_y=True)"
      ]
    },
    {
      "cell_type": "code",
      "execution_count": null,
      "metadata": {
        "colab": {
          "base_uri": "https://localhost:8080/",
          "height": 488
        },
        "id": "9g8MqL5CGSKw",
        "outputId": "dee5049f-132e-4de5-a51b-c9703d7b84b1"
      },
      "outputs": [
        {
          "data": {
            "text/html": [
              "\n",
              "  <div id=\"df-c4869900-4790-4692-ab6e-d66de22b7806\">\n",
              "    <div class=\"colab-df-container\">\n",
              "      <div>\n",
              "<style scoped>\n",
              "    .dataframe tbody tr th:only-of-type {\n",
              "        vertical-align: middle;\n",
              "    }\n",
              "\n",
              "    .dataframe tbody tr th {\n",
              "        vertical-align: top;\n",
              "    }\n",
              "\n",
              "    .dataframe thead th {\n",
              "        text-align: right;\n",
              "    }\n",
              "</style>\n",
              "<table border=\"1\" class=\"dataframe\">\n",
              "  <thead>\n",
              "    <tr style=\"text-align: right;\">\n",
              "      <th></th>\n",
              "      <th>pixel1</th>\n",
              "      <th>pixel2</th>\n",
              "      <th>pixel3</th>\n",
              "      <th>pixel4</th>\n",
              "      <th>pixel5</th>\n",
              "      <th>pixel6</th>\n",
              "      <th>pixel7</th>\n",
              "      <th>pixel8</th>\n",
              "      <th>pixel9</th>\n",
              "      <th>pixel10</th>\n",
              "      <th>...</th>\n",
              "      <th>pixel775</th>\n",
              "      <th>pixel776</th>\n",
              "      <th>pixel777</th>\n",
              "      <th>pixel778</th>\n",
              "      <th>pixel779</th>\n",
              "      <th>pixel780</th>\n",
              "      <th>pixel781</th>\n",
              "      <th>pixel782</th>\n",
              "      <th>pixel783</th>\n",
              "      <th>pixel784</th>\n",
              "    </tr>\n",
              "  </thead>\n",
              "  <tbody>\n",
              "    <tr>\n",
              "      <th>0</th>\n",
              "      <td>0.0</td>\n",
              "      <td>0.0</td>\n",
              "      <td>0.0</td>\n",
              "      <td>0.0</td>\n",
              "      <td>0.0</td>\n",
              "      <td>0.0</td>\n",
              "      <td>0.0</td>\n",
              "      <td>0.0</td>\n",
              "      <td>0.0</td>\n",
              "      <td>0.0</td>\n",
              "      <td>...</td>\n",
              "      <td>0.0</td>\n",
              "      <td>0.0</td>\n",
              "      <td>0.0</td>\n",
              "      <td>0.0</td>\n",
              "      <td>0.0</td>\n",
              "      <td>0.0</td>\n",
              "      <td>0.0</td>\n",
              "      <td>0.0</td>\n",
              "      <td>0.0</td>\n",
              "      <td>0.0</td>\n",
              "    </tr>\n",
              "    <tr>\n",
              "      <th>1</th>\n",
              "      <td>0.0</td>\n",
              "      <td>0.0</td>\n",
              "      <td>0.0</td>\n",
              "      <td>0.0</td>\n",
              "      <td>0.0</td>\n",
              "      <td>0.0</td>\n",
              "      <td>0.0</td>\n",
              "      <td>0.0</td>\n",
              "      <td>0.0</td>\n",
              "      <td>0.0</td>\n",
              "      <td>...</td>\n",
              "      <td>0.0</td>\n",
              "      <td>0.0</td>\n",
              "      <td>0.0</td>\n",
              "      <td>0.0</td>\n",
              "      <td>0.0</td>\n",
              "      <td>0.0</td>\n",
              "      <td>0.0</td>\n",
              "      <td>0.0</td>\n",
              "      <td>0.0</td>\n",
              "      <td>0.0</td>\n",
              "    </tr>\n",
              "    <tr>\n",
              "      <th>2</th>\n",
              "      <td>0.0</td>\n",
              "      <td>0.0</td>\n",
              "      <td>0.0</td>\n",
              "      <td>0.0</td>\n",
              "      <td>0.0</td>\n",
              "      <td>0.0</td>\n",
              "      <td>0.0</td>\n",
              "      <td>0.0</td>\n",
              "      <td>0.0</td>\n",
              "      <td>0.0</td>\n",
              "      <td>...</td>\n",
              "      <td>0.0</td>\n",
              "      <td>0.0</td>\n",
              "      <td>0.0</td>\n",
              "      <td>0.0</td>\n",
              "      <td>0.0</td>\n",
              "      <td>0.0</td>\n",
              "      <td>0.0</td>\n",
              "      <td>0.0</td>\n",
              "      <td>0.0</td>\n",
              "      <td>0.0</td>\n",
              "    </tr>\n",
              "    <tr>\n",
              "      <th>3</th>\n",
              "      <td>0.0</td>\n",
              "      <td>0.0</td>\n",
              "      <td>0.0</td>\n",
              "      <td>0.0</td>\n",
              "      <td>0.0</td>\n",
              "      <td>0.0</td>\n",
              "      <td>0.0</td>\n",
              "      <td>0.0</td>\n",
              "      <td>0.0</td>\n",
              "      <td>0.0</td>\n",
              "      <td>...</td>\n",
              "      <td>0.0</td>\n",
              "      <td>0.0</td>\n",
              "      <td>0.0</td>\n",
              "      <td>0.0</td>\n",
              "      <td>0.0</td>\n",
              "      <td>0.0</td>\n",
              "      <td>0.0</td>\n",
              "      <td>0.0</td>\n",
              "      <td>0.0</td>\n",
              "      <td>0.0</td>\n",
              "    </tr>\n",
              "    <tr>\n",
              "      <th>4</th>\n",
              "      <td>0.0</td>\n",
              "      <td>0.0</td>\n",
              "      <td>0.0</td>\n",
              "      <td>0.0</td>\n",
              "      <td>0.0</td>\n",
              "      <td>0.0</td>\n",
              "      <td>0.0</td>\n",
              "      <td>0.0</td>\n",
              "      <td>0.0</td>\n",
              "      <td>0.0</td>\n",
              "      <td>...</td>\n",
              "      <td>0.0</td>\n",
              "      <td>0.0</td>\n",
              "      <td>0.0</td>\n",
              "      <td>0.0</td>\n",
              "      <td>0.0</td>\n",
              "      <td>0.0</td>\n",
              "      <td>0.0</td>\n",
              "      <td>0.0</td>\n",
              "      <td>0.0</td>\n",
              "      <td>0.0</td>\n",
              "    </tr>\n",
              "    <tr>\n",
              "      <th>...</th>\n",
              "      <td>...</td>\n",
              "      <td>...</td>\n",
              "      <td>...</td>\n",
              "      <td>...</td>\n",
              "      <td>...</td>\n",
              "      <td>...</td>\n",
              "      <td>...</td>\n",
              "      <td>...</td>\n",
              "      <td>...</td>\n",
              "      <td>...</td>\n",
              "      <td>...</td>\n",
              "      <td>...</td>\n",
              "      <td>...</td>\n",
              "      <td>...</td>\n",
              "      <td>...</td>\n",
              "      <td>...</td>\n",
              "      <td>...</td>\n",
              "      <td>...</td>\n",
              "      <td>...</td>\n",
              "      <td>...</td>\n",
              "      <td>...</td>\n",
              "    </tr>\n",
              "    <tr>\n",
              "      <th>69995</th>\n",
              "      <td>0.0</td>\n",
              "      <td>0.0</td>\n",
              "      <td>0.0</td>\n",
              "      <td>0.0</td>\n",
              "      <td>0.0</td>\n",
              "      <td>0.0</td>\n",
              "      <td>0.0</td>\n",
              "      <td>0.0</td>\n",
              "      <td>0.0</td>\n",
              "      <td>0.0</td>\n",
              "      <td>...</td>\n",
              "      <td>0.0</td>\n",
              "      <td>0.0</td>\n",
              "      <td>0.0</td>\n",
              "      <td>0.0</td>\n",
              "      <td>0.0</td>\n",
              "      <td>0.0</td>\n",
              "      <td>0.0</td>\n",
              "      <td>0.0</td>\n",
              "      <td>0.0</td>\n",
              "      <td>0.0</td>\n",
              "    </tr>\n",
              "    <tr>\n",
              "      <th>69996</th>\n",
              "      <td>0.0</td>\n",
              "      <td>0.0</td>\n",
              "      <td>0.0</td>\n",
              "      <td>0.0</td>\n",
              "      <td>0.0</td>\n",
              "      <td>0.0</td>\n",
              "      <td>0.0</td>\n",
              "      <td>0.0</td>\n",
              "      <td>0.0</td>\n",
              "      <td>0.0</td>\n",
              "      <td>...</td>\n",
              "      <td>0.0</td>\n",
              "      <td>0.0</td>\n",
              "      <td>0.0</td>\n",
              "      <td>0.0</td>\n",
              "      <td>0.0</td>\n",
              "      <td>0.0</td>\n",
              "      <td>0.0</td>\n",
              "      <td>0.0</td>\n",
              "      <td>0.0</td>\n",
              "      <td>0.0</td>\n",
              "    </tr>\n",
              "    <tr>\n",
              "      <th>69997</th>\n",
              "      <td>0.0</td>\n",
              "      <td>0.0</td>\n",
              "      <td>0.0</td>\n",
              "      <td>0.0</td>\n",
              "      <td>0.0</td>\n",
              "      <td>0.0</td>\n",
              "      <td>0.0</td>\n",
              "      <td>0.0</td>\n",
              "      <td>0.0</td>\n",
              "      <td>0.0</td>\n",
              "      <td>...</td>\n",
              "      <td>0.0</td>\n",
              "      <td>0.0</td>\n",
              "      <td>0.0</td>\n",
              "      <td>0.0</td>\n",
              "      <td>0.0</td>\n",
              "      <td>0.0</td>\n",
              "      <td>0.0</td>\n",
              "      <td>0.0</td>\n",
              "      <td>0.0</td>\n",
              "      <td>0.0</td>\n",
              "    </tr>\n",
              "    <tr>\n",
              "      <th>69998</th>\n",
              "      <td>0.0</td>\n",
              "      <td>0.0</td>\n",
              "      <td>0.0</td>\n",
              "      <td>0.0</td>\n",
              "      <td>0.0</td>\n",
              "      <td>0.0</td>\n",
              "      <td>0.0</td>\n",
              "      <td>0.0</td>\n",
              "      <td>0.0</td>\n",
              "      <td>0.0</td>\n",
              "      <td>...</td>\n",
              "      <td>0.0</td>\n",
              "      <td>0.0</td>\n",
              "      <td>0.0</td>\n",
              "      <td>0.0</td>\n",
              "      <td>0.0</td>\n",
              "      <td>0.0</td>\n",
              "      <td>0.0</td>\n",
              "      <td>0.0</td>\n",
              "      <td>0.0</td>\n",
              "      <td>0.0</td>\n",
              "    </tr>\n",
              "    <tr>\n",
              "      <th>69999</th>\n",
              "      <td>0.0</td>\n",
              "      <td>0.0</td>\n",
              "      <td>0.0</td>\n",
              "      <td>0.0</td>\n",
              "      <td>0.0</td>\n",
              "      <td>0.0</td>\n",
              "      <td>0.0</td>\n",
              "      <td>0.0</td>\n",
              "      <td>0.0</td>\n",
              "      <td>0.0</td>\n",
              "      <td>...</td>\n",
              "      <td>0.0</td>\n",
              "      <td>0.0</td>\n",
              "      <td>0.0</td>\n",
              "      <td>0.0</td>\n",
              "      <td>0.0</td>\n",
              "      <td>0.0</td>\n",
              "      <td>0.0</td>\n",
              "      <td>0.0</td>\n",
              "      <td>0.0</td>\n",
              "      <td>0.0</td>\n",
              "    </tr>\n",
              "  </tbody>\n",
              "</table>\n",
              "<p>70000 rows × 784 columns</p>\n",
              "</div>\n",
              "      <button class=\"colab-df-convert\" onclick=\"convertToInteractive('df-c4869900-4790-4692-ab6e-d66de22b7806')\"\n",
              "              title=\"Convert this dataframe to an interactive table.\"\n",
              "              style=\"display:none;\">\n",
              "        \n",
              "  <svg xmlns=\"http://www.w3.org/2000/svg\" height=\"24px\"viewBox=\"0 0 24 24\"\n",
              "       width=\"24px\">\n",
              "    <path d=\"M0 0h24v24H0V0z\" fill=\"none\"/>\n",
              "    <path d=\"M18.56 5.44l.94 2.06.94-2.06 2.06-.94-2.06-.94-.94-2.06-.94 2.06-2.06.94zm-11 1L8.5 8.5l.94-2.06 2.06-.94-2.06-.94L8.5 2.5l-.94 2.06-2.06.94zm10 10l.94 2.06.94-2.06 2.06-.94-2.06-.94-.94-2.06-.94 2.06-2.06.94z\"/><path d=\"M17.41 7.96l-1.37-1.37c-.4-.4-.92-.59-1.43-.59-.52 0-1.04.2-1.43.59L10.3 9.45l-7.72 7.72c-.78.78-.78 2.05 0 2.83L4 21.41c.39.39.9.59 1.41.59.51 0 1.02-.2 1.41-.59l7.78-7.78 2.81-2.81c.8-.78.8-2.07 0-2.86zM5.41 20L4 18.59l7.72-7.72 1.47 1.35L5.41 20z\"/>\n",
              "  </svg>\n",
              "      </button>\n",
              "      \n",
              "  <style>\n",
              "    .colab-df-container {\n",
              "      display:flex;\n",
              "      flex-wrap:wrap;\n",
              "      gap: 12px;\n",
              "    }\n",
              "\n",
              "    .colab-df-convert {\n",
              "      background-color: #E8F0FE;\n",
              "      border: none;\n",
              "      border-radius: 50%;\n",
              "      cursor: pointer;\n",
              "      display: none;\n",
              "      fill: #1967D2;\n",
              "      height: 32px;\n",
              "      padding: 0 0 0 0;\n",
              "      width: 32px;\n",
              "    }\n",
              "\n",
              "    .colab-df-convert:hover {\n",
              "      background-color: #E2EBFA;\n",
              "      box-shadow: 0px 1px 2px rgba(60, 64, 67, 0.3), 0px 1px 3px 1px rgba(60, 64, 67, 0.15);\n",
              "      fill: #174EA6;\n",
              "    }\n",
              "\n",
              "    [theme=dark] .colab-df-convert {\n",
              "      background-color: #3B4455;\n",
              "      fill: #D2E3FC;\n",
              "    }\n",
              "\n",
              "    [theme=dark] .colab-df-convert:hover {\n",
              "      background-color: #434B5C;\n",
              "      box-shadow: 0px 1px 3px 1px rgba(0, 0, 0, 0.15);\n",
              "      filter: drop-shadow(0px 1px 2px rgba(0, 0, 0, 0.3));\n",
              "      fill: #FFFFFF;\n",
              "    }\n",
              "  </style>\n",
              "\n",
              "      <script>\n",
              "        const buttonEl =\n",
              "          document.querySelector('#df-c4869900-4790-4692-ab6e-d66de22b7806 button.colab-df-convert');\n",
              "        buttonEl.style.display =\n",
              "          google.colab.kernel.accessAllowed ? 'block' : 'none';\n",
              "\n",
              "        async function convertToInteractive(key) {\n",
              "          const element = document.querySelector('#df-c4869900-4790-4692-ab6e-d66de22b7806');\n",
              "          const dataTable =\n",
              "            await google.colab.kernel.invokeFunction('convertToInteractive',\n",
              "                                                     [key], {});\n",
              "          if (!dataTable) return;\n",
              "\n",
              "          const docLinkHtml = 'Like what you see? Visit the ' +\n",
              "            '<a target=\"_blank\" href=https://colab.research.google.com/notebooks/data_table.ipynb>data table notebook</a>'\n",
              "            + ' to learn more about interactive tables.';\n",
              "          element.innerHTML = '';\n",
              "          dataTable['output_type'] = 'display_data';\n",
              "          await google.colab.output.renderOutput(dataTable, element);\n",
              "          const docLink = document.createElement('div');\n",
              "          docLink.innerHTML = docLinkHtml;\n",
              "          element.appendChild(docLink);\n",
              "        }\n",
              "      </script>\n",
              "    </div>\n",
              "  </div>\n",
              "  "
            ],
            "text/plain": [
              "       pixel1  pixel2  pixel3  pixel4  pixel5  pixel6  pixel7  pixel8  pixel9  \\\n",
              "0         0.0     0.0     0.0     0.0     0.0     0.0     0.0     0.0     0.0   \n",
              "1         0.0     0.0     0.0     0.0     0.0     0.0     0.0     0.0     0.0   \n",
              "2         0.0     0.0     0.0     0.0     0.0     0.0     0.0     0.0     0.0   \n",
              "3         0.0     0.0     0.0     0.0     0.0     0.0     0.0     0.0     0.0   \n",
              "4         0.0     0.0     0.0     0.0     0.0     0.0     0.0     0.0     0.0   \n",
              "...       ...     ...     ...     ...     ...     ...     ...     ...     ...   \n",
              "69995     0.0     0.0     0.0     0.0     0.0     0.0     0.0     0.0     0.0   \n",
              "69996     0.0     0.0     0.0     0.0     0.0     0.0     0.0     0.0     0.0   \n",
              "69997     0.0     0.0     0.0     0.0     0.0     0.0     0.0     0.0     0.0   \n",
              "69998     0.0     0.0     0.0     0.0     0.0     0.0     0.0     0.0     0.0   \n",
              "69999     0.0     0.0     0.0     0.0     0.0     0.0     0.0     0.0     0.0   \n",
              "\n",
              "       pixel10  ...  pixel775  pixel776  pixel777  pixel778  pixel779  \\\n",
              "0          0.0  ...       0.0       0.0       0.0       0.0       0.0   \n",
              "1          0.0  ...       0.0       0.0       0.0       0.0       0.0   \n",
              "2          0.0  ...       0.0       0.0       0.0       0.0       0.0   \n",
              "3          0.0  ...       0.0       0.0       0.0       0.0       0.0   \n",
              "4          0.0  ...       0.0       0.0       0.0       0.0       0.0   \n",
              "...        ...  ...       ...       ...       ...       ...       ...   \n",
              "69995      0.0  ...       0.0       0.0       0.0       0.0       0.0   \n",
              "69996      0.0  ...       0.0       0.0       0.0       0.0       0.0   \n",
              "69997      0.0  ...       0.0       0.0       0.0       0.0       0.0   \n",
              "69998      0.0  ...       0.0       0.0       0.0       0.0       0.0   \n",
              "69999      0.0  ...       0.0       0.0       0.0       0.0       0.0   \n",
              "\n",
              "       pixel780  pixel781  pixel782  pixel783  pixel784  \n",
              "0           0.0       0.0       0.0       0.0       0.0  \n",
              "1           0.0       0.0       0.0       0.0       0.0  \n",
              "2           0.0       0.0       0.0       0.0       0.0  \n",
              "3           0.0       0.0       0.0       0.0       0.0  \n",
              "4           0.0       0.0       0.0       0.0       0.0  \n",
              "...         ...       ...       ...       ...       ...  \n",
              "69995       0.0       0.0       0.0       0.0       0.0  \n",
              "69996       0.0       0.0       0.0       0.0       0.0  \n",
              "69997       0.0       0.0       0.0       0.0       0.0  \n",
              "69998       0.0       0.0       0.0       0.0       0.0  \n",
              "69999       0.0       0.0       0.0       0.0       0.0  \n",
              "\n",
              "[70000 rows x 784 columns]"
            ]
          },
          "execution_count": 86,
          "metadata": {},
          "output_type": "execute_result"
        }
      ],
      "source": [
        "X"
      ]
    },
    {
      "cell_type": "markdown",
      "metadata": {
        "id": "2b8dE55FsFHx"
      },
      "source": [
        "Plotting a single sample of each digit "
      ]
    },
    {
      "cell_type": "code",
      "execution_count": null,
      "metadata": {
        "colab": {
          "base_uri": "https://localhost:8080/",
          "height": 391
        },
        "id": "AqwKEAnYr-jM",
        "outputId": "d4583a99-0b58-48ad-a369-ce63b775702b"
      },
      "outputs": [
        {
          "data": {
            "image/png": "[encoded data removed]",
            "text/plain": [
              "<Figure size 720x432 with 10 Axes>"
            ]
          },
          "metadata": {
            "needs_background": "light"
          },
          "output_type": "display_data"
        }
      ],
      "source": [
        "import matplotlib.pyplot as plt\n",
        "import numpy as np\n",
        "import pandas as pd\n",
        "\n",
        "plt.rcParams[\"figure.figsize\"] = (10,6)\n",
        "plt.rcParams.update({'font.size': 11})\n",
        "\n",
        "fig, ax = plt.subplots(2,5)\n",
        "ax = ax.flatten()\n",
        "\n",
        "fig.suptitle('Number examples') \n",
        "for i in range(10):\n",
        "    im_idx = y[y==str(i)].index[0]\n",
        "    plottable_image = np.reshape(X.loc[im_idx].values, (28, 28))\n",
        "    ax[i].imshow(plottable_image, cmap='gray_r')\n",
        "    ax[i].set_title(f'Example label {i}')\n"
      ]
    },
    {
      "cell_type": "markdown",
      "metadata": {
        "id": "wNtaXSLzxpRi"
      },
      "source": [
        "Dividing our data into train and test sets, using 1/7 of the data for testing."
      ]
    },
    {
      "cell_type": "code",
      "execution_count": null,
      "metadata": {
        "id": "zYAKe7WhxoKF"
      },
      "outputs": [],
      "source": [
        "from sklearn.model_selection import train_test_split \n",
        "\n",
        "X_train, X_test, y_train, y_test = train_test_split(X, y, test_size = 1.0/7.0) "
      ]
    },
    {
      "cell_type": "markdown",
      "metadata": {
        "id": "WTGjjSKaFfE6"
      },
      "source": [
        "### Bernoulli Naive Bayes\n",
        "If we know how the digits are generated, then we know how to classify them (simply choose the digit class which will maximize the posterior probability) --- but which model should we use for describing the digits generation?\n",
        "\n",
        "In this part we will try a very simplified model of digits creation (which is obviously not the same as the \"real\" model), using a Naive Bayes over an underlying Bernoulli distribution --- that is, we will assume that given a digit class, the pixels of the images are the result of independent coin flips, each with its own \"head\" probability.\n",
        "\n",
        "Note that since we assume each pixl is either 0 (black) or 1 (white), we will need to adjust (preprocess) our data accrodingly (see below).\n",
        "\n",
        "So, the model is stated as follows:\n",
        "$$\n",
        "\\begin{align}\n",
        "\\text{Domain} && x \\in \\{0,1\\}^{784} \\\\\n",
        "\\text{Prior} && \\pi_j = \\Pr(y=j) \\\\\n",
        "\\text{Likelihood} && P_j(x) = \\Pr(x | y=j) \\\\\n",
        "\\end{align}\n",
        "$$\n",
        "\n",
        "Where for each $i\\in 0\\ldots 784$ it holds that\n",
        "$$\n",
        "P_{ji}(x_i) = \\Pr(x_i | y=j) =\n",
        "\\begin{cases}\n",
        "p_{ji} & \\text{if } x_i=1 \\\\\n",
        "1-p_{ji} & \\text{if } x_i=0 \\\\\n",
        "\\end{cases}\n",
        "$$\n"
      ]
    },
    {
      "cell_type": "markdown",
      "metadata": {
        "id": "WNjhD3IpL5bC"
      },
      "source": [
        "#### Question 1\n",
        "Write the classification rule based on this Naive Bayes model. \n",
        "How would you esitmate each of the parameters of the model based on the trainning data? \n",
        "\n",
        "\n",
        "**Bonus:** Think of edge cases which may effect your estimator in an undesired way."
      ]
    },
    {
      "cell_type": "markdown",
      "metadata": {
        "id": "0pN1prGcMqwZ"
      },
      "source": [
        "#### Answer 1\n",
        "**Write the classification rule based on this Naive Bayes model**    \n",
        "While the genral Naive Bayes clssaification rule is given by   \n",
        "$\\hat{y} = \\arg\\max_y P(y) \\prod_{i=1}^{n} P(x_i \\mid y)$\n",
        "    \n",
        "The decision rule for Bernoulli naive Bayes defines the likelihood $P(x_i \\mid y)$ like this:   \n",
        "$P(x_i \\mid y) = P(x_i = 1 \\mid y) x_i + (1 - P(x_i = 0 \\mid y)) (1 - x_i) $   \n",
        "And for us:      \n",
        "$P_{ji}(x_i) = Pr(x_i | y=j) = p_{ji}\\cdot x_{i} + (1 - p_{ji})) (1 - x_{i})$    \n",
        "and the prior is given by:   \n",
        "$P(y) = Pr(y=j) = \\pi_j $   \n",
        "\n",
        "\n",
        "and since it is easier to calculate the log-sum instead of the product, our decision rule is:\n",
        "\n",
        "$\\hat{y} = \\arg\\max_y log\\pi_j +  \\sum_{i=1}^{n} log(p_{ji}\\cdot x_{i} + (1 - p_{ji})) (1 - x_{i}))$\n",
        "\n",
        "The training of the model is done by calculating the likelihood for each feature:    \n",
        "$ P(x_i \\mid y) = \\prod_{i=1}^{n} (p_{ij}^{x_i} * (1 - p_{ij})^{1 - x_i}) $\n",
        "\n",
        "To overcome the situation of missing pixles (which will nullify the result), we can add the Laplacean prior.     \n",
        "$P = \\frac{1 + M_{ji}}{2 + M_j}$    \n",
        "Where $M_{ji}$ is the number of colored pixles from category j\n",
        "and $M_{j}$ is the total number of examples of category j\n",
        "\n",
        "   \n",
        "\n",
        "\n",
        "\n",
        "\n",
        "\n"
      ]
    },
    {
      "cell_type": "markdown",
      "metadata": {
        "id": "nOnkgDIXTMCQ"
      },
      "source": [
        "#### Question 2\n",
        "Run a Naive Bayes classifier on the training data and apply predictions on the test data. Use the [sklearn.naive_bayes.BernoulliNB](http://scikit-learn.org/stable/modules/generated/sklearn.naive_bayes.BernoulliNB.html) implementation (see the [source code for sklearn.naive_bayes](https://github.com/scikit-learn/scikit-learn/blob/master/sklearn/naive_bayes.py) for details).\n",
        "\n",
        "Remember we need to preprocess the data in this case such that each pixel would become either black (0) or white (1). For this, use the `binarize` parameter of the implementation. Set this value to $0$ (this is the default), which in this case would mean every pixel with non-zero value will be set to 1.\n",
        "\n",
        "1. Plot the mean image of each class (estimated $\\hat{p}_{ji}$) and generate one sample of each class (remember, you can do this since this is a generative model). You will need to access the `feature_log_prob_` attribute of the trained model.\n",
        "\n",
        "2. Plot the confusion matrix of your classifier, as claculated on the test data (it is recommended to use [sklearn.metrics.confusion_matrix](http://scikit-learn.org/stable/modules/generated/sklearn.metrics.confusion_matrix.html)). Calculate the total accuracy (fraction of correctly classified images), and summarize the results in your own words.\n",
        "\n",
        "3. Think of a way you can find the optimal threshold of the binarization part. **There is no need to actually perform this task --- just describe what you would have done.**\n"
      ]
    },
    {
      "cell_type": "markdown",
      "metadata": {
        "id": "ZKdsdegDWaO_"
      },
      "source": [
        "#### Answer 2\n"
      ]
    },
    {
      "cell_type": "markdown",
      "metadata": {
        "id": "3lAXHwU-i7Ol"
      },
      "source": [
        "##### Creating a model"
      ]
    },
    {
      "cell_type": "code",
      "execution_count": null,
      "metadata": {
        "colab": {
          "base_uri": "https://localhost:8080/"
        },
        "id": "VMjmIbBVejdu",
        "outputId": "56565cc5-fd6f-48b8-8cd0-4ba508b758bc"
      },
      "outputs": [
        {
          "name": "stdout",
          "output_type": "stream",
          "text": [
            "0.8347\n"
          ]
        }
      ],
      "source": [
        "from sklearn.naive_bayes import BernoulliNB\n",
        "\n",
        "clf = BernoulliNB(binarize=0)\n",
        "\n",
        "clf.fit(X_train, y_train)\n",
        "\n",
        "print(clf.score(X_test, y_test))\n"
      ]
    },
    {
      "cell_type": "markdown",
      "metadata": {
        "id": "MSxljgT_QKEm"
      },
      "source": [
        "Lets have a visual impression for the algorithm success for 10 random example."
      ]
    },
    {
      "cell_type": "code",
      "execution_count": null,
      "metadata": {
        "colab": {
          "base_uri": "https://localhost:8080/",
          "height": 391
        },
        "id": "yfyPICX9QWa0",
        "outputId": "0ae9fe08-f564-4984-b280-0e0f2cc9afc0"
      },
      "outputs": [
        {
          "data": {
            "image/png": "[encoded data removed]",
            "text/plain": [
              "<Figure size 720x432 with 10 Axes>"
            ]
          },
          "metadata": {
            "needs_background": "light"
          },
          "output_type": "display_data"
        }
      ],
      "source": [
        "plt.rcParams[\"figure.figsize\"] = (10,6)\n",
        "\n",
        "fig, ax = plt.subplots(2,5)\n",
        "ax = ax.flatten()\n",
        "\n",
        "pred_y = clf.predict(X_test)\n",
        "\n",
        "y_test_r = y_test.reset_index(drop=True)\n",
        "X_test_r = X_test.reset_index(drop=True)\n",
        "\n",
        "fig.suptitle('Prediction examples') \n",
        "for i in range(10):\n",
        "    all_idx = y_test_r[y_test_r==str(i)].index  # Getting all the indeces of each digit\n",
        "    img_idx = np.random.choice(all_idx)  # Choosing a random example\n",
        "    plottable_image = np.reshape(X_test_r.iloc[img_idx].values, (28, 28))\n",
        "    ax[i].imshow(plottable_image, cmap='gray_r')\n",
        "    ax[i].set_title(f'Predicted label {pred_y[img_idx]}') # Adding label\n",
        "\n",
        "\n",
        "plt.show()"
      ]
    },
    {
      "cell_type": "markdown",
      "metadata": {
        "id": "r6hDop8p67BL"
      },
      "source": [
        "##### 1. Plot the mean image of each class (estimated  p^ji ) and generate one sample of each class (remember, you can do this since this is a generative model). "
      ]
    },
    {
      "cell_type": "markdown",
      "metadata": {
        "id": "z8AT13vBlUdn"
      },
      "source": [
        "Plotting the mean images"
      ]
    },
    {
      "cell_type": "code",
      "execution_count": null,
      "metadata": {
        "colab": {
          "base_uri": "https://localhost:8080/",
          "height": 391
        },
        "id": "0HPQ8_Tx5zh-",
        "outputId": "102e2d19-53a6-46d7-fcf3-d18492c32ae8"
      },
      "outputs": [
        {
          "data": {
            "image/png": "[encoded data removed]",
            "text/plain": [
              "<Figure size 720x432 with 10 Axes>"
            ]
          },
          "metadata": {
            "needs_background": "light"
          },
          "output_type": "display_data"
        }
      ],
      "source": [
        "plt.rcParams[\"figure.figsize\"] = (10,6)\n",
        "\n",
        "fig, ax = plt.subplots(2,5)\n",
        "i = 0\n",
        "for ax in ax.flatten():\n",
        "    # Converting from log to number\n",
        "    vec_mean = np.exp(clf.feature_log_prob_[i]) \n",
        "    img = vec_mean.reshape((28, 28)) \n",
        "    ax.imshow(img, cmap=\"gray_r\")\n",
        "    ax.set_title(f'True label {i}')\n",
        "    i += 1\n",
        "\n",
        "fig.suptitle(\"Mean images\")\n",
        "\n",
        "# show plot\n",
        "plt.show()"
      ]
    },
    {
      "cell_type": "markdown",
      "metadata": {
        "id": "cvcfaGgAlX9R"
      },
      "source": [
        "Genrating new images"
      ]
    },
    {
      "cell_type": "code",
      "execution_count": null,
      "metadata": {
        "colab": {
          "base_uri": "https://localhost:8080/",
          "height": 278
        },
        "id": "Tn9d0AyYlahZ",
        "outputId": "a63c46e7-a527-49a8-f076-27fd0fe7a148"
      },
      "outputs": [
        {
          "data": {
            "image/png": "[encoded data removed]",
            "text/plain": [
              "<Figure size 504x288 with 10 Axes>"
            ]
          },
          "metadata": {
            "needs_background": "light"
          },
          "output_type": "display_data"
        }
      ],
      "source": [
        "plt.rcParams[\"figure.figsize\"] = (10,6)\n",
        "fig, ax = plt.subplots(2,5, figsize=(7,4))\n",
        "\n",
        "# For each class\n",
        "i = 0\n",
        "for ax in ax.flatten():\n",
        "    # Generating the image based on the probability\n",
        "    vec_generated = np.random.binomial(1, np.exp(clf.feature_log_prob_[i]), 784)\n",
        "    img = vec_generated.reshape((28, 28)) # Reshaping\n",
        "    ax.imshow(img, cmap=\"gray_r\") # Plotting\n",
        "    ax.set_title(f'True label {i}') # Adding title\n",
        "    i += 1\n",
        "\n",
        "fig.suptitle(\"Generated images\")\n",
        "\n",
        "plt.show()"
      ]
    },
    {
      "cell_type": "markdown",
      "metadata": {
        "id": "AiYGDH-GIiDs"
      },
      "source": [
        "##### 2.Plotting the confusion matrix of your classifier, as claculated on the test data "
      ]
    },
    {
      "cell_type": "code",
      "execution_count": null,
      "metadata": {
        "colab": {
          "base_uri": "https://localhost:8080/",
          "height": 388
        },
        "id": "XalqjRWXWS-Y",
        "outputId": "4da14e6e-7316-43c1-8b97-2b01c017c4fc"
      },
      "outputs": [
        {
          "data": {
            "image/png": "[encoded data removed]",
            "text/plain": [
              "<Figure size 720x432 with 2 Axes>"
            ]
          },
          "metadata": {
            "needs_background": "light"
          },
          "output_type": "display_data"
        }
      ],
      "source": [
        "from sklearn.metrics import confusion_matrix, ConfusionMatrixDisplay\n",
        "\n",
        "pred_y = clf.predict(X_test)\n",
        "\n",
        "cm = confusion_matrix(y_test, pred_y, labels=clf.classes_)\n",
        "disp = ConfusionMatrixDisplay(confusion_matrix=cm, display_labels=clf.classes_)\n",
        "disp.plot();\n"
      ]
    },
    {
      "cell_type": "markdown",
      "metadata": {
        "id": "LE-Allpdd_ZV"
      },
      "source": [
        "Calculating the total accuracy (fraction of correctly classified images), and summarize the results in your own words\n"
      ]
    },
    {
      "cell_type": "code",
      "execution_count": null,
      "metadata": {
        "colab": {
          "base_uri": "https://localhost:8080/"
        },
        "id": "xdqGH_Q3exKC",
        "outputId": "feae0933-8097-43c4-f341-cb73b9d68e91"
      },
      "outputs": [
        {
          "data": {
            "text/plain": [
              "0.8347"
            ]
          },
          "execution_count": 94,
          "metadata": {},
          "output_type": "execute_result"
        }
      ],
      "source": [
        "from sklearn.metrics import accuracy_score\n",
        "\n",
        "accuracy_score(y_test, pred_y)"
      ]
    },
    {
      "cell_type": "markdown",
      "metadata": {
        "id": "4e6KNMK4e_YL"
      },
      "source": [
        "We can see that our model predicted the figure correctly in 83% of the images. Using the confusion matrix, we can see that some digits, like 1 and 0, are easier to classify, while other digits like 5, are not classified well. We  can also see that the model confuses between the digits 5 and 3 and between 4 and 9."
      ]
    },
    {
      "cell_type": "markdown",
      "metadata": {
        "id": "foERxEQ2jVZN"
      },
      "source": [
        "##### 3.Think of a way you can find the optimal threshold of the binarization part. There is no need to actually perform this task --- just describe what you would have done. "
      ]
    },
    {
      "cell_type": "markdown",
      "metadata": {
        "id": "haKSD-beoF4t"
      },
      "source": [
        "We can tune the binarize parameter by plotting a validation curve and looking for the optimal score, or using GridCV."
      ]
    },
    {
      "cell_type": "markdown",
      "metadata": {
        "id": "lKSgnectrTJ1"
      },
      "source": [
        "## 2. Classifing Text Documents using Multinomial Naive Bayes\n",
        "In this exercise you will classify the \"20 newsgroups\" data set using your own naive bayes classifier and compare to the scikit learn built in version.\n",
        "\n",
        "The 20 newsgroups dataset comprises around 18000 newsgroups posts on 20 topics split in two subsets: one for training (or development) and the other one for testing (or for performance evaluation). The split between the train and test set is based upon messages posted before and after a specific date.\n",
        "\n",
        "\n",
        "* Load the **train** data using `from sklearn.datasets import fetch_20newsgroups`. remove headers, footers and quotes (see documentation)\n",
        "* Use `sklearn.feature_extraction.text import CountVectorizer` to count words (stop_words='english')\n",
        "* Write a class `NaiveBayes(BaseEstimator, ClassifierMixin)` and implement its `fit`, `predict` and `predict_proba` methods.\n",
        "* use `sklearn.pipeline.make_pipeline` to chain the vectroizer and model.\n",
        "* note: limit the vocuabolary size if you suffer memory issues\n",
        "* compare the accuracy over the **test** data. You can use `accuracy_score, classification_report`\n",
        "* compare to the built in `sklearn.naive_bayes.MultinomialNB`. If there are differences try to think why\n",
        "* optimize performance in respect to vectorizer hyper parameters (e.g. max_features, max_df etc.).\n",
        "\n",
        "### Optional: Model interpretability\n",
        "Find the most important features for a **specific** decision of a NB classifier.\n",
        "Because the model has learned the prior $p(x_i|c)$ during the training, the contribution of an individual feature value can be easily measured by the posterior, $p(c|x_i)=p(c)p(x_i|c)/p(x_i)$\n",
        "Implement a function which gets a scikit-learn NB model as input and returns $P(c|x_i)$:\n",
        "\n",
        "`def calc_p_c_given_xi(model)`\n",
        "\n",
        "Hint: Use the following model properties:\n",
        "\n",
        "* `model.class_log_prior_`\n",
        "* `model.feature_log_prob_`\n",
        "\n",
        "Note: remember these are logs and you need to use np.exp and normalize to get $P(c|x_i)$ \n",
        "Another hint: use numpy built-in broadcasting property.\n",
        "\n",
        "* Use the interpretation to examine errors of the classifier where $\\hat{c}\\ne c$. Which top words support the correct class and which support the wrong class? You can use the `print_txt` below to color words. \n",
        "\n",
        "Bonus: How can you correct the analyzed error? \n",
        "\n",
        "To read more about model interpretation, see the blogpost below and my tutorial:\n",
        "* https://lilianweng.github.io/lil-log/2017/08/01/how-to-explain-the-prediction-of-a-machine-learning-model.html\n",
        "* https://github.com/chanansh/right_but_why"
      ]
    },
    {
      "cell_type": "code",
      "execution_count": null,
      "metadata": {
        "colab": {
          "base_uri": "https://localhost:8080/"
        },
        "id": "WrTOhkHV9msW",
        "outputId": "d2e4a5a4-e216-4e05-b550-afe964f98221"
      },
      "outputs": [
        {
          "name": "stdout",
          "output_type": "stream",
          "text": [
            "This \u001b[42;37mword\u001b[0m \u001b[42;37msupport\u001b[0m the first class but this the \u001b[41;37mother\u001b[0m\n"
          ]
        }
      ],
      "source": [
        "import string\n",
        "def print_txt(txt, hot, cold):\n",
        "  \"\"\"\n",
        "  print the text, coloring hot and cold words with colors\n",
        "  \"\"\"\n",
        "  cold_color='\\x1b[41;37m{}\\x1b[0m'\n",
        "  hot_color='\\x1b[42;37m{}\\x1b[0m'\n",
        "  def color(token):\n",
        "    lower = str(token).lower()\n",
        "    lower = lower.replace('\\t','').replace('\\n','')\n",
        "    lower = lower.translate(string.punctuation)\n",
        "    if (lower in hot) and (lower in cold):\n",
        "      return mid_color.format(token)\n",
        "    elif lower in hot:\n",
        "      return hot_color.format(token)\n",
        "    elif lower in cold:\n",
        "      return cold_color.format(token)\n",
        "    else:\n",
        "      return token\n",
        "  colored_txt = \" \".join([color(token) for token in txt.split(' ')])\n",
        "  print(colored_txt)\n",
        "print_txt('This word support the first class but this the other', ['word', 'support'],['other'])"
      ]
    },
    {
      "cell_type": "markdown",
      "metadata": {
        "id": "q-02IpKJrG8O"
      },
      "source": [
        "#### Loading the train data using from sklearn.datasets import fetch_20newsgroups. remove headers, footers and quotes"
      ]
    },
    {
      "cell_type": "code",
      "execution_count": 1,
      "metadata": {
        "id": "qiJdcdL4fmPF"
      },
      "outputs": [],
      "source": [
        "from sklearn.datasets import fetch_20newsgroups\n",
        "\n",
        "X, y = fetch_20newsgroups(remove=('headers', 'footers', 'quotes'), return_X_y=True)"
      ]
    },
    {
      "cell_type": "markdown",
      "metadata": {
        "id": "6upvpV-IrWu8"
      },
      "source": [
        "Using `sklearn.feature_extraction.text import CountVectorizer` to count words (stop_words='english')"
      ]
    },
    {
      "cell_type": "code",
      "execution_count": 2,
      "metadata": {
        "colab": {
          "base_uri": "https://localhost:8080/"
        },
        "id": "HLwoRk5aNiJ8",
        "outputId": "dd0f681e-5c1e-4467-fe3c-695cb4072d94"
      },
      "outputs": [
        {
          "name": "stdout",
          "output_type": "stream",
          "text": [
            "example test:\n",
            " I was wondering if anyone out there could enlighten me on this car I saw\n",
            "the other day. It was a 2-door sports car, looked to be from the late 60s/\n",
            "early 70s. It was called a Bricklin. The doors were really small. In addition,\n",
            "the front bumper was separate from the rest of the body. This is \n",
            "all I know. If anyone can tellme a model name, engine specs, years\n",
            "of production, where this car is made, history, or whatever info you\n",
            "have on this funky looking car, please e-mail.\n",
            "  (0, 32)\t1\n",
            "  (0, 13)\t1\n",
            "  (0, 7)\t4\n",
            "  (0, 26)\t1\n",
            "  (0, 8)\t1\n",
            "  (0, 9)\t1\n",
            "  (0, 30)\t1\n",
            "  (0, 19)\t1\n",
            "  (0, 18)\t1\n",
            "  (0, 0)\t1\n",
            "  (0, 11)\t1\n",
            "  (0, 1)\t1\n",
            "  (0, 6)\t1\n",
            "  (0, 4)\t1\n",
            "  (0, 10)\t1\n",
            "  (0, 24)\t1\n",
            "  (0, 28)\t1\n",
            "  (0, 2)\t1\n",
            "  (0, 5)\t1\n",
            "  (0, 27)\t1\n",
            "  (0, 25)\t1\n",
            "  (0, 3)\t1\n",
            "  (0, 17)\t1\n",
            "  (0, 31)\t1\n",
            "  (0, 22)\t1\n",
            "  (0, 12)\t1\n",
            "  (0, 29)\t1\n",
            "  (0, 33)\t1\n",
            "  (0, 23)\t1\n",
            "  (0, 15)\t1\n",
            "  (0, 16)\t1\n",
            "  (0, 14)\t1\n",
            "  (0, 20)\t1\n",
            "  (0, 21)\t1\n"
          ]
        }
      ],
      "source": [
        "from sklearn.feature_extraction.text import CountVectorizer\n",
        "print('example test:\\n', X[0])\n",
        "example_text = X[:1] # The first text\n",
        "coun_vect = CountVectorizer(stop_words='english')\n",
        "count_matrix = coun_vect.fit_transform(example_text)\n",
        "print(count_matrix)\n",
        "\n"
      ]
    },
    {
      "cell_type": "markdown",
      "metadata": {
        "id": "2iUJD-yxsVid"
      },
      "source": [
        "The interpertation of the above matrix is that the 7th word - **car** - appears 4 times in the text."
      ]
    },
    {
      "cell_type": "markdown",
      "metadata": {
        "id": "PsEEIsrhsk98"
      },
      "source": [
        "#### Writing a class NaiveBayes(BaseEstimator, ClassifierMixin) and implement its fit, predict and predict_proba methods."
      ]
    },
    {
      "cell_type": "code",
      "execution_count": 24,
      "metadata": {
        "id": "FEbVc4Ixxe6L"
      },
      "outputs": [],
      "source": [
        "from sklearn.base import BaseEstimator, ClassifierMixin\n",
        "from sklearn.feature_extraction.text import CountVectorizer\n",
        "import pandas as pd\n",
        "\n",
        "class NaiveBayes(BaseEstimator, ClassifierMixin):\n",
        "  def __init__(self, alpha = 1):\n",
        "    self.alpha = alpha\n",
        "    # defaults values\n",
        "    self.classes = None\n",
        "    self.priors = None\n",
        "    self.feature_matrix = None\n",
        "\n",
        "    super().__init__()\n",
        "\n",
        "  def fit(self, x, y):\n",
        "    # Counting the classes for the prior probabilities\n",
        "    classes, priors = np.unique(y, return_counts=True)\n",
        "    self.classes = classes\n",
        "    self.priors = priors/sum(priors)\n",
        "\n",
        "    n_samples, n_features = x.shape\n",
        "    n_classes = len(classes)\n",
        "\n",
        "    # Counting the featurers in each class for the likelihood\n",
        "    feature_matrix = np.zeros((n_classes, n_features))\n",
        "\n",
        "    for i in range(n_classes):\n",
        "        c = classes[i]\n",
        "        feature_matrix[i, :] = np.sum(x[y==c, :],axis=0)\n",
        "\n",
        "    # Calculating the smoothed likelihood\n",
        "    feature_sum = (feature_matrix + self.alpha).sum(axis=1)\n",
        "    self.likelihood_matrix = ((feature_matrix + self.alpha).T / feature_sum).T\n",
        "\n",
        "  def predict_log_proba(self, x):\n",
        "      lp = x.dot(np.log(self.likelihood_matrix.T) + np.log(self.priors.T))\n",
        "      return lp\n",
        "\n",
        "  def predict(self, x):\n",
        "    lps = self.predict_log_proba(x)\n",
        "    c_i = np.argmax(lps, axis=1)\n",
        "    best_class = self.classes[c_i]\n",
        "    return best_class"
      ]
    },
    {
      "cell_type": "markdown",
      "metadata": {
        "id": "2XRnp6kMfvHU"
      },
      "source": [
        "#### Using sklearn.pipeline.make_pipeline to chain the vectroizer and model."
      ]
    },
    {
      "cell_type": "code",
      "execution_count": 4,
      "metadata": {
        "id": "wykpnulf1T1r"
      },
      "outputs": [],
      "source": [
        "X_train, y_train = fetch_20newsgroups(remove=('headers', 'footers', 'quotes'), \n",
        "                                      return_X_y=True, subset=('train'))"
      ]
    },
    {
      "cell_type": "code",
      "execution_count": 26,
      "metadata": {
        "colab": {
          "base_uri": "https://localhost:8080/"
        },
        "id": "3tiSXz4nTWjY",
        "outputId": "cc13de7d-d0de-416c-a65e-146046d26a14"
      },
      "outputs": [
        {
          "name": "stdout",
          "output_type": "stream",
          "text": [
            "Train set score: 0.6224110462028678\n"
          ]
        }
      ],
      "source": [
        "# From Slack\n",
        "from sklearn.pipeline import make_pipeline\n",
        "import numpy as np\n",
        "\n",
        "count_vect = CountVectorizer(stop_words='english')\n",
        "nb = NaiveBayes()\n",
        "pipe = make_pipeline(count_vect, nb)\n",
        "pipe.fit(X_train, y_train)\n",
        "print('Train set score:', pipe.score(X_test, y_test))\n"
      ]
    },
    {
      "cell_type": "markdown",
      "metadata": {
        "id": "d1gMtPyms88k"
      },
      "source": [
        "#### Comparing the accuracy over the test data."
      ]
    },
    {
      "cell_type": "code",
      "execution_count": 27,
      "metadata": {
        "id": "2GTnVO_xWg5U"
      },
      "outputs": [],
      "source": [
        "from sklearn.model_selection import train_test_split \n",
        "\n",
        "X_test,y_test = fetch_20newsgroups(remove=('headers','footers','quotes'), \n",
        "                                   return_X_y=True, subset=('test'))\n",
        "\n",
        "pipe.fit(X_train, y_train);"
      ]
    },
    {
      "cell_type": "code",
      "execution_count": 28,
      "metadata": {
        "colab": {
          "base_uri": "https://localhost:8080/"
        },
        "id": "aCmGnSu5dOF3",
        "outputId": "85701a69-3516-49cd-abb8-59d19227cb3c"
      },
      "outputs": [
        {
          "data": {
            "text/plain": [
              "0.6224110462028678"
            ]
          },
          "execution_count": 28,
          "metadata": {},
          "output_type": "execute_result"
        }
      ],
      "source": [
        "from sklearn.metrics import accuracy_score\n",
        "\n",
        "y_pred = pipe.predict(X_test)\n",
        "\n",
        "accuracy_score(y_test, y_pred)"
      ]
    },
    {
      "cell_type": "code",
      "execution_count": 29,
      "metadata": {
        "colab": {
          "base_uri": "https://localhost:8080/"
        },
        "id": "GAO-xXmedpPe",
        "outputId": "896c35c9-d778-471e-f5b5-484f73389743"
      },
      "outputs": [
        {
          "name": "stdout",
          "output_type": "stream",
          "text": [
            "              precision    recall  f1-score   support\n",
            "\n",
            "           0       0.16      0.14      0.15       319\n",
            "           1       0.60      0.68      0.64       389\n",
            "           2       0.40      0.01      0.01       394\n",
            "           3       0.52      0.72      0.60       392\n",
            "           4       0.75      0.54      0.63       385\n",
            "           5       0.55      0.81      0.66       395\n",
            "           6       0.85      0.69      0.76       390\n",
            "           7       0.82      0.72      0.77       396\n",
            "           8       0.89      0.65      0.75       398\n",
            "           9       0.93      0.76      0.83       397\n",
            "          10       0.89      0.88      0.89       399\n",
            "          11       0.50      0.80      0.61       396\n",
            "          12       0.70      0.49      0.58       393\n",
            "          13       0.78      0.81      0.79       396\n",
            "          14       0.71      0.78      0.74       394\n",
            "          15       0.38      0.92      0.54       398\n",
            "          16       0.59      0.57      0.58       364\n",
            "          17       0.56      0.82      0.67       376\n",
            "          18       0.75      0.27      0.40       310\n",
            "          19       0.67      0.01      0.02       251\n",
            "\n",
            "    accuracy                           0.62      7532\n",
            "   macro avg       0.65      0.60      0.58      7532\n",
            "weighted avg       0.65      0.62      0.60      7532\n",
            "\n"
          ]
        }
      ],
      "source": [
        "from sklearn.metrics import classification_report\n",
        "\n",
        "print(classification_report(y_test, y_pred))"
      ]
    },
    {
      "cell_type": "markdown",
      "metadata": {
        "id": "v-qexmHAeGYC"
      },
      "source": [
        "We can see that different categories got different precision and recall scores. For example, it seems that the 9th category (rec.sport.baseball) was indetified in high precision (that is, many positive identifications were correct) and high recall (many identifications were done correctly). While other categories, like the first category (alt.atheism) were miss-identified in most of the cases."
      ]
    },
    {
      "cell_type": "markdown",
      "metadata": {
        "id": "mLInKlPBtJO9"
      },
      "source": [
        "#### Compare to the built in sklearn.naive_bayes.MultinomialNB. If there are differences try to think why"
      ]
    },
    {
      "cell_type": "code",
      "execution_count": 9,
      "metadata": {
        "id": "5wT_G0aJhYGd"
      },
      "outputs": [],
      "source": [
        "from sklearn.naive_bayes import MultinomialNB, _BaseDiscreteNB\n",
        "\n",
        "count_vect = CountVectorizer(stop_words='english')\n",
        "sk = MultinomialNB()\n",
        "pipe_sk = make_pipeline(count_vect, sk)\n",
        "\n",
        "pipe_sk.fit(X_train, y_train);"
      ]
    },
    {
      "cell_type": "code",
      "execution_count": 10,
      "metadata": {
        "colab": {
          "base_uri": "https://localhost:8080/"
        },
        "id": "6013JWSz2oGk",
        "outputId": "23b2e66d-fb8b-407f-ca00-1ebde3518033"
      },
      "outputs": [
        {
          "data": {
            "text/plain": [
              "0.6343600637280935"
            ]
          },
          "execution_count": 10,
          "metadata": {},
          "output_type": "execute_result"
        }
      ],
      "source": [
        "y_pred_sk = pipe_sk.predict(X_test)\n",
        "\n",
        "accuracy_score(y_test, y_pred_sk)"
      ]
    },
    {
      "cell_type": "code",
      "execution_count": 11,
      "metadata": {
        "colab": {
          "base_uri": "https://localhost:8080/"
        },
        "id": "DTBPlK2o2w8e",
        "outputId": "002a1f48-e735-4142-eadc-c33dd4eb6dea"
      },
      "outputs": [
        {
          "name": "stdout",
          "output_type": "stream",
          "text": [
            "              precision    recall  f1-score   support\n",
            "\n",
            "           0       0.65      0.30      0.41       319\n",
            "           1       0.58      0.69      0.63       389\n",
            "           2       0.40      0.01      0.01       394\n",
            "           3       0.53      0.72      0.61       392\n",
            "           4       0.74      0.56      0.64       385\n",
            "           5       0.56      0.81      0.66       395\n",
            "           6       0.85      0.69      0.76       390\n",
            "           7       0.82      0.70      0.76       396\n",
            "           8       0.91      0.62      0.73       398\n",
            "           9       0.94      0.74      0.83       397\n",
            "          10       0.58      0.91      0.71       399\n",
            "          11       0.54      0.79      0.64       396\n",
            "          12       0.71      0.49      0.58       393\n",
            "          13       0.81      0.79      0.80       396\n",
            "          14       0.72      0.75      0.73       394\n",
            "          15       0.46      0.91      0.61       398\n",
            "          16       0.57      0.61      0.59       364\n",
            "          17       0.58      0.80      0.67       376\n",
            "          18       0.46      0.44      0.45       310\n",
            "          19       0.56      0.06      0.11       251\n",
            "\n",
            "    accuracy                           0.63      7532\n",
            "   macro avg       0.65      0.62      0.60      7532\n",
            "weighted avg       0.65      0.63      0.61      7532\n",
            "\n"
          ]
        }
      ],
      "source": [
        "print(classification_report(y_test, y_pred_sk))"
      ]
    },
    {
      "cell_type": "markdown",
      "metadata": {
        "id": "4ZWt43Sxt7g7"
      },
      "source": [
        "We can see that the builtin Naive Bayes performs a little bit better than our model in the overall accuracy and in most of the classes. We assume that the difference is a result of difference in the calcualtion of the predict_log_proba:"
      ]
    },
    {
      "cell_type": "code",
      "execution_count": 30,
      "metadata": {
        "colab": {
          "base_uri": "https://localhost:8080/"
        },
        "id": "2h-BfQsm5Fgf",
        "outputId": "d6da8abe-459b-49da-f9c5-d2052f3c7e9d"
      },
      "outputs": [
        {
          "name": "stdout",
          "output_type": "stream",
          "text": [
            "sklearn predict_log_proba mean:\t -90.99713653500595\n",
            "Home predict_log_proba mean:\t -1140.0940466510353\n"
          ]
        }
      ],
      "source": [
        "print('sklearn predict_log_proba mean:\\t', pipe_sk.predict_log_proba(X_test).mean())\n",
        "print('Home predict_log_proba mean:\\t', pipe.predict_log_proba(X_test).mean())\n"
      ]
    },
    {
      "cell_type": "markdown",
      "metadata": {
        "id": "lFR-vRUZtRw0"
      },
      "source": [
        "#### Optimizing performance in respect to vectorizer hyper parameters (e.g. max_features, max_df etc.)."
      ]
    },
    {
      "cell_type": "markdown",
      "metadata": {
        "id": "uZOxA3exUTDG"
      },
      "source": [
        "We will use GridCV to tune the hyper parameres"
      ]
    },
    {
      "cell_type": "code",
      "execution_count": 12,
      "metadata": {
        "colab": {
          "base_uri": "https://localhost:8080/"
        },
        "id": "JfTcko-hTF-v",
        "outputId": "0bb40a1e-3b6e-4f0d-8a2c-5d1f7574c6d9"
      },
      "outputs": [
        {
          "name": "stdout",
          "output_type": "stream",
          "text": [
            "Fitting 3 folds for each of 40 candidates, totalling 120 fits\n",
            "The best parameters were found to be: {'vect__binary': True, 'vect__max_df': 0.1, 'vect__max_features': 20000}\n"
          ]
        }
      ],
      "source": [
        "from sklearn.pipeline import Pipeline\n",
        "from sklearn.model_selection import GridSearchCV\n",
        "\n",
        "vect = CountVectorizer(stop_words='english')\n",
        "sk = MultinomialNB()\n",
        "\n",
        "# Using Pipeline to allow grid search\n",
        "pipe = Pipeline([\n",
        "    (\"vect\", CountVectorizer(stop_words='english')),\n",
        "    (\"nb\", MultinomialNB()),\n",
        "]) \n",
        "\n",
        "param_grid = {'vect__max_features': np.arange(20000, 30000, 2000),\n",
        "              'vect__max_df': np.arange(0.1, 0.5, 0.1),\n",
        "              'vect__binary': [True, False]}\n",
        "\n",
        "# Training the GridCV model\n",
        "grid = GridSearchCV(pipe, param_grid, refit = True, verbose = 3, n_jobs=-1, cv=3) \n",
        "grid.fit(X_train, y_train) \n",
        "print('The best parameters were found to be:', grid.best_params_)"
      ]
    },
    {
      "cell_type": "code",
      "execution_count": 13,
      "metadata": {
        "colab": {
          "base_uri": "https://localhost:8080/"
        },
        "id": "dsdvVq3obmpn",
        "outputId": "95ce905a-ee36-441b-ea2e-2a323f9eb924"
      },
      "outputs": [
        {
          "name": "stdout",
          "output_type": "stream",
          "text": [
            "The naive model accuract:\t 0.6343600637280935\n",
            "The optimized model accuracy\t 0.6639670738183749\n"
          ]
        }
      ],
      "source": [
        "pipe.fit(X_train, y_train) \n",
        "print('The naive model accuract:\\t', pipe.score(X_test, y_test))\n",
        "print('The optimized model accuracy\\t', grid.score(X_test, y_test))"
      ]
    },
    {
      "cell_type": "markdown",
      "metadata": {
        "id": "jQ30Q_LZ0nE7"
      },
      "source": [
        "We will re-use function we wrote in the SVM exercise to plot the validation curves."
      ]
    },
    {
      "cell_type": "code",
      "execution_count": 14,
      "metadata": {
        "id": "yW9qZMLAVfmn"
      },
      "outputs": [],
      "source": [
        "from sklearn.model_selection import validation_curve\n",
        "import matplotlib.pyplot as plt\n",
        "\n",
        "def plot_validation_curve(classifier, X, y, param_grid, log = False):\n",
        "\n",
        "    # Enlarging font and figure size\n",
        "    if len(param_grid) > 1:\n",
        "        plt.rcParams[\"figure.figsize\"] = (13, 5)\n",
        "    else:\n",
        "        plt.rcParams[\"figure.figsize\"] = (8, 6)\n",
        "    plt.rcParams.update({'font.size': 14})\n",
        "\n",
        "    i = 1\n",
        "    for param_name, param_range in param_grid.items():\n",
        "\n",
        "        # Defining the parameters\n",
        "        train_scores, test_scores = validation_curve(classifier, X, y, param_name=param_name, \n",
        "                                                      param_range=param_range, cv=10)\n",
        "\n",
        "        dic = {'Train scores': train_scores, 'Test scores': test_scores}\n",
        "\n",
        "        plt.subplot(1, len(param_grid), i)  # Plotting subplots for the 4th part\n",
        "\n",
        "        for name, score in dic.items():\n",
        "            scores_mean = score.mean(axis=1)\n",
        "            scores_std = score.std(axis=1)\n",
        "\n",
        "            # Plottig the mean\n",
        "            plt.plot(param_range, scores_mean, label=name)\n",
        "\n",
        "            # Filling the area\n",
        "            plt.fill_between(param_range, (scores_mean - scores_std), (scores_mean + scores_std), alpha=0.2)\n",
        "\n",
        "        plt.title(f'Validation Curve for {param_name}')\n",
        "        plt.ylabel('Score')\n",
        "        plt.legend()\n",
        "\n",
        "        if log or param_name == 'C':\n",
        "            plt.xscale(\"log\")\n",
        "            plt.xlabel(f'{param_name} (log)')\n",
        "        else:\n",
        "            plt.xlabel(param_name)\n",
        "        \n",
        "        i += 1 # For the plotting\n",
        "        \n",
        "    plt.show;"
      ]
    },
    {
      "cell_type": "code",
      "execution_count": 15,
      "metadata": {
        "colab": {
          "base_uri": "https://localhost:8080/",
          "height": 416
        },
        "id": "ySMNJqBrY26m",
        "outputId": "6cd4273c-1836-4c80-deec-b4fbf0fc59ef"
      },
      "outputs": [
        {
          "data": {
            "image/png": "[encoded data removed]",
            "text/plain": [
              "<Figure size 576x432 with 1 Axes>"
            ]
          },
          "metadata": {
            "needs_background": "light"
          },
          "output_type": "display_data"
        }
      ],
      "source": [
        "param_grid = {'vect__max_features': np.arange(10000, 30000, 2000)}\n",
        "plot_validation_curve(pipe, X_test, y_test, param_grid)\n"
      ]
    },
    {
      "cell_type": "code",
      "execution_count": 16,
      "metadata": {
        "colab": {
          "base_uri": "https://localhost:8080/",
          "height": 416
        },
        "id": "N9QQbPrpbZcu",
        "outputId": "7779e303-f261-4acc-be74-4b10cc2115d7"
      },
      "outputs": [
        {
          "data": {
            "image/png": "[encoded data removed]",
            "text/plain": [
              "<Figure size 576x432 with 1 Axes>"
            ]
          },
          "metadata": {
            "needs_background": "light"
          },
          "output_type": "display_data"
        }
      ],
      "source": [
        "param_grid = {'vect__max_df': np.arange(0.1, 0.9, 0.1)}\n",
        "plot_validation_curve(pipe, X_test, y_test, param_grid)"
      ]
    },
    {
      "cell_type": "markdown",
      "metadata": {
        "id": "EPPJadwscnCw"
      },
      "source": [
        "We can see that by tuning the parameters we were able to improve the test accuracy from **0.63** to **0.66**."
      ]
    }
  ],
  "metadata": {
    "colab": {
      "provenance": []
    },
    "kernelspec": {
      "display_name": "Python 3",
      "language": "python",
      "name": "python3"
    },
    "language_info": {
      "codemirror_mode": {
        "name": "ipython",
        "version": 3
      },
      "file_extension": ".py",
      "mimetype": "text/x-python",
      "name": "python",
      "nbconvert_exporter": "python",
      "pygments_lexer": "ipython3",
      "version": "3.7.3"
    }
  },
  "nbformat": 4,
  "nbformat_minor": 0
}
